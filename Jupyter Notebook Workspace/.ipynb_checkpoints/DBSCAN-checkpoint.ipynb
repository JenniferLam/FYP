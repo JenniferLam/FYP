{
 "cells": [
  {
   "cell_type": "code",
   "execution_count": 13,
   "metadata": {},
   "outputs": [
    {
     "ename": "SyntaxError",
     "evalue": "invalid syntax (<ipython-input-13-660e8407c3c0>, line 15)",
     "output_type": "error",
     "traceback": [
      "\u001b[1;36m  File \u001b[1;32m\"<ipython-input-13-660e8407c3c0>\"\u001b[1;36m, line \u001b[1;32m15\u001b[0m\n\u001b[1;33m    if (calDistance(x,y,point[0],point[1]) > neighborDis)\u001b[0m\n\u001b[1;37m                                                         ^\u001b[0m\n\u001b[1;31mSyntaxError\u001b[0m\u001b[1;31m:\u001b[0m invalid syntax\n"
     ]
    }
   ],
   "source": [
    "import math\n",
    "import cx_oracle\n",
    "\n",
    "#Calculate the distance between two points\n",
    "def calDistance(x1,x2,y1,y2):\n",
    "    distance = math.sqrt((x2-x1)*(x2-x1) + (y2-y1)*(y2-y1))\n",
    "    return distance\n",
    "\n",
    "#Find and store all neighbor points\n",
    "def findNeighbor(data,point,neighborDis):\n",
    "    neighborPts = []\n",
    "    x = point[0]\n",
    "    y = point[1]\n",
    "    for point in data:\n",
    "        if (calDistance(x,y,point[0],point[1]) > neighborDis)\n",
    "            neighborPts.append(point)\n",
    "    \n",
    "    return neighborPts       \n",
    "\n",
    "#Continue to search neighbor points and grow a cluster\n",
    "def searchCluster():\n",
    "    \n",
    "    \n",
    "    \n",
    "#DBSCAN algorithm\n",
    "def DBSCAN(data,minPoint,neighborDis):\n",
    "    outliner = []\n",
    "    cluster = []\n",
    "    num_cluster = 0;\n",
    "    \n",
    "    for point in data:\n",
    "        cluster.append(point)\n",
    "        neighborPt = findNeighbor(data, point,neighborDis)\n",
    "        if len(neighborPt) < minPoint:\n",
    "            outliner.append(point)\n",
    "        else:\n",
    "            cluster.append(point)\n",
    "            num_cluster+=1\n",
    "            searchCluster()\n",
    "    \n",
    "    # Output\n",
    "    print(\"MinPoints: \"+minPoint)\n",
    "    print(\"Threshold Distance: \"+neighborDis)\n",
    "    print(\"No. of cluster groups: \")\n",
    "\n",
    "\n",
    "#Database connection\n",
    "con = cx_Oracle.connect('python/welcome@localhost/orcl') #unable to connect DB, problem is probably the unusual directory used in installation\n",
    "con.close()\n",
    "\n",
    "\n",
    "#Define the parameters using in DBSCAN\n",
    "minPoint = input(\"Please input the number of minimum points: \")\n",
    "neighborDis = input(\"Please input the threshold distance: \")\n",
    "\n",
    "#Workaround is file import\n",
    "fileDir = input(\"Please type the file directory: \")\n",
    "fileObject = open(fileDir, 'w')\n",
    "\n",
    "\n",
    "#Call DBSCAN for implementation\n",
    "DBSCAN(data,minPoint, neighborDis)"
   ]
  },
  {
   "cell_type": "code",
   "execution_count": null,
   "metadata": {},
   "outputs": [],
   "source": []
  }
 ],
 "metadata": {
  "kernelspec": {
   "display_name": "Python 3",
   "language": "python",
   "name": "python3"
  },
  "language_info": {
   "codemirror_mode": {
    "name": "ipython",
    "version": 3
   },
   "file_extension": ".py",
   "mimetype": "text/x-python",
   "name": "python",
   "nbconvert_exporter": "python",
   "pygments_lexer": "ipython3",
   "version": "3.6.3"
  }
 },
 "nbformat": 4,
 "nbformat_minor": 2
}
