{
 "cells": [
  {
   "cell_type": "code",
   "execution_count": 3,
   "metadata": {},
   "outputs": [
    {
     "name": "stdout",
     "output_type": "stream",
     "text": [
      "Please input the number of minimum points: 5\n",
      "Please input the threshold distance: 35\n",
      "Please type the file directory: 234324\n"
     ]
    },
    {
     "ename": "NameError",
     "evalue": "name 'data' is not defined",
     "output_type": "error",
     "traceback": [
      "\u001b[1;31m---------------------------------------------------------------------------\u001b[0m",
      "\u001b[1;31mNameError\u001b[0m                                 Traceback (most recent call last)",
      "\u001b[1;32m<ipython-input-3-05748e5b1c8e>\u001b[0m in \u001b[0;36m<module>\u001b[1;34m()\u001b[0m\n\u001b[0;32m     61\u001b[0m \u001b[1;33m\u001b[0m\u001b[0m\n\u001b[0;32m     62\u001b[0m \u001b[1;31m#Call DBSCAN for implementation\u001b[0m\u001b[1;33m\u001b[0m\u001b[1;33m\u001b[0m\u001b[0m\n\u001b[1;32m---> 63\u001b[1;33m \u001b[0mDBSCAN\u001b[0m\u001b[1;33m(\u001b[0m\u001b[0mdata\u001b[0m\u001b[1;33m,\u001b[0m\u001b[0mminPoint\u001b[0m\u001b[1;33m,\u001b[0m \u001b[0mneighborDis\u001b[0m\u001b[1;33m)\u001b[0m\u001b[1;33m\u001b[0m\u001b[0m\n\u001b[0m",
      "\u001b[1;31mNameError\u001b[0m: name 'data' is not defined"
     ]
    }
   ],
   "source": [
    "import math\n",
    "import cx_Oracle\n",
    "\n",
    "#Calculate the distance between two points\n",
    "def calDistance(x1,x2,y1,y2):\n",
    "    distance = math.sqrt((x2-x1)*(x2-x1) + (y2-y1)*(y2-y1))\n",
    "    return distance\n",
    "\n",
    "#Find and store all neighbor points\n",
    "def findNeighbor(data,point,neighborDis):\n",
    "    neighborPts = []\n",
    "    x = point[0]\n",
    "    y = point[1]\n",
    "    for point in data:\n",
    "        if (calDistance(x,y,point[0],point[1]) > neighborDis):\n",
    "            neighborPts.append(point)\n",
    "    \n",
    "    return neighborPts       \n",
    "\n",
    "#Continue to search neighbor points and grow a cluster\n",
    "def searchCluster():\n",
    "    return 0\n",
    "    \n",
    "    \n",
    "#DBSCAN algorithm\n",
    "def DBSCAN(data,minPoint,neighborDis):\n",
    "    outliner = []\n",
    "    cluster = []\n",
    "    num_cluster = 0;\n",
    "    \n",
    "    for point in data:\n",
    "        cluster.append(point)\n",
    "        neighborPt = findNeighbor(data, point,neighborDis)\n",
    "        if len(neighborPt) < minPoint:\n",
    "            outliner.append(point)\n",
    "        else:\n",
    "            cluster.append(point)\n",
    "            num_cluster+=1\n",
    "            searchCluster()\n",
    "    \n",
    "    # Output\n",
    "    print(\"MinPoints: \"+minPoint)\n",
    "    print(\"Threshold Distance: \"+neighborDis)\n",
    "    print(\"No. of cluster groups: \")\n",
    "    return 0\n",
    "\n",
    "\n",
    "#Database connection\n",
    "con = cx_Oracle.connect('python/welcome@localhost/fypDB') \n",
    "\n",
    "#Define the parameters using in DBSCAN\n",
    "minPoint = input(\"Please input the number of minimum points: \")\n",
    "neighborDis = input(\"Please input the threshold distance: \")\n",
    "\n",
    "\n",
    "#Call DBSCAN for implementation\n",
    "DBSCAN(data,minPoint, neighborDis)\n",
    "\n",
    "con.close()"
   ]
  },
  {
   "cell_type": "code",
   "execution_count": null,
   "metadata": {},
   "outputs": [],
   "source": []
  },
  {
   "cell_type": "code",
   "execution_count": null,
   "metadata": {},
   "outputs": [],
   "source": []
  },
  {
   "cell_type": "code",
   "execution_count": null,
   "metadata": {},
   "outputs": [],
   "source": []
  }
 ],
 "metadata": {
  "kernelspec": {
   "display_name": "Python 3",
   "language": "python",
   "name": "python3"
  },
  "language_info": {
   "codemirror_mode": {
    "name": "ipython",
    "version": 3
   },
   "file_extension": ".py",
   "mimetype": "text/x-python",
   "name": "python",
   "nbconvert_exporter": "python",
   "pygments_lexer": "ipython3",
   "version": "3.6.3"
  }
 },
 "nbformat": 4,
 "nbformat_minor": 2
}
