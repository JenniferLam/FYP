{
 "cells": [
  {
   "cell_type": "code",
   "execution_count": 5,
   "metadata": {},
   "outputs": [],
   "source": [
    "import math\n",
    "\n",
    "#Define the parameters using in DBSCAN\n",
    "var minPoint\n",
    "var neighborDis\n",
    "var corePoint\n",
    "\n",
    "\n",
    "\n",
    "#Calculate the distance between two points\n",
    "def calDistance(x1,x2,y1,y2):\n",
    "    distance = math.sqrt((x2-x1)*(x2-x1) + (y2-y1)*(y2-y1))\n",
    "    \n"
   ]
  },
  {
   "cell_type": "code",
   "execution_count": null,
   "metadata": {},
   "outputs": [],
   "source": []
  }
 ],
 "metadata": {
  "kernelspec": {
   "display_name": "Python 3",
   "language": "python",
   "name": "python3"
  },
  "language_info": {
   "codemirror_mode": {
    "name": "ipython",
    "version": 3
   },
   "file_extension": ".py",
   "mimetype": "text/x-python",
   "name": "python",
   "nbconvert_exporter": "python",
   "pygments_lexer": "ipython3",
   "version": "3.6.3"
  }
 },
 "nbformat": 4,
 "nbformat_minor": 2
}
